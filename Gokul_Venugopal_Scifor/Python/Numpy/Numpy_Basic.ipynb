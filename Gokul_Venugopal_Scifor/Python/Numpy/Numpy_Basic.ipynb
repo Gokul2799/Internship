{
  "cells": [
    {
      "cell_type": "code",
      "execution_count": null,
      "id": "28780a6a",
      "metadata": {
        "id": "28780a6a"
      },
      "outputs": [],
      "source": [
        "import numpy as np"
      ]
    },
    {
      "cell_type": "markdown",
      "id": "28bdf1b9",
      "metadata": {
        "id": "28bdf1b9"
      },
      "source": [
        "### Basics of an array"
      ]
    },
    {
      "cell_type": "code",
      "execution_count": null,
      "id": "7cd83d7f",
      "metadata": {
        "id": "7cd83d7f",
        "outputId": "1f47c285-3af1-4c4f-c4a5-aa08bc2c3f7f"
      },
      "outputs": [
        {
          "data": {
            "text/plain": [
              "[[1.0, 0.0, 6.0], [2.0, 4.0, 3.0]]"
            ]
          },
          "execution_count": 2,
          "metadata": {},
          "output_type": "execute_result"
        }
      ],
      "source": [
        "# First axis is row, second axis is column.\n",
        "# First axis has length of 2 (2 rows), second axis has length of 3 (3 columns)\n",
        "[[1., 0., 6.],\n",
        " [2., 4., 3.]]"
      ]
    },
    {
      "cell_type": "code",
      "execution_count": null,
      "id": "e6df5184",
      "metadata": {
        "id": "e6df5184",
        "outputId": "b90b0705-a82a-4d3c-8d69-4f58059a727a"
      },
      "outputs": [
        {
          "name": "stdout",
          "output_type": "stream",
          "text": [
            "__init_numpy_array__\n",
            "[[1 2]\n",
            " [3 0]\n",
            " [0 6]]\n",
            "__float_numpy_array__\n",
            "[[1. 2.]\n",
            " [3. 0.]\n",
            " [0. 6.]]\n",
            "__string_numpy_array__\n",
            "[['1' '2']\n",
            " ['3' '0']\n",
            " ['0' '6']]\n",
            "__boolean_numpy_array__\n",
            "[[ True  True]\n",
            " [ True False]\n",
            " [False  True]]\n"
          ]
        }
      ],
      "source": [
        "# To create a NumPy array, create a Python array then pass it to np.array\n",
        "array = [[1,2],\n",
        "         [3,0],\n",
        "         [0,6]]\n",
        "\n",
        "init_numpy_array = np.array(array)\n",
        "float_numpy_array = np.array(array, dtype=np.float) # set data type while creating an array\n",
        "string_numpy_array = np.array(array, dtype=np.str)\n",
        "boolean_numpy_array = np.array(array, dtype=np.bool)\n",
        "\n",
        "print(\"__init_numpy_array__\")\n",
        "print(init_numpy_array)\n",
        "print(\"__float_numpy_array__\")\n",
        "print(float_numpy_array)\n",
        "print(\"__string_numpy_array__\")\n",
        "print(string_numpy_array)\n",
        "print(\"__boolean_numpy_array__\")\n",
        "print(boolean_numpy_array)  # True for non-zero, False for zero\n"
      ]
    },
    {
      "cell_type": "code",
      "execution_count": null,
      "id": "c17596df",
      "metadata": {
        "id": "c17596df",
        "outputId": "56ea0b4d-1416-4762-bf5d-bc7f074f5a0d"
      },
      "outputs": [
        {
          "name": "stdout",
          "output_type": "stream",
          "text": [
            "Type of array:  int64\n",
            "Number of dimensions:  2\n",
            "Shape of array:  (3, 2)\n",
            "Size of array:  6\n"
          ]
        }
      ],
      "source": [
        "# Getting some attributes of an array\n",
        "\n",
        "print(\"Type of array: \", init_numpy_array.dtype)\n",
        "print(\"Number of dimensions: \", init_numpy_array.ndim)\n",
        "print(\"Shape of array: \", init_numpy_array.shape)\n",
        "print(\"Size of array: \", init_numpy_array.size) # size is total items count, regardless of shape\n"
      ]
    },
    {
      "cell_type": "code",
      "execution_count": null,
      "id": "680cc6ba",
      "metadata": {
        "id": "680cc6ba",
        "outputId": "d3227a02-6044-4a33-f4f0-0240ca96a887"
      },
      "outputs": [
        {
          "name": "stdout",
          "output_type": "stream",
          "text": [
            "__array__\n",
            "[[1 2]\n",
            " [3 0]\n",
            " [0 6]]\n",
            "Total sum:  12\n",
            "Total mean:  2.0\n",
            "Total std:  2.0816659994661326\n",
            "Total min:  0\n",
            "Total max:  6\n",
            "Total cumsum:  [ 1  3  6  6  6 12]\n",
            "___\n",
            "Sum over rows:  [4 8]\n",
            "Sum over cols:  [3 3 6]\n",
            "Sum first col:  4\n",
            "___\n",
            "Argmax flat:  5\n",
            "Argmax row:  [1 2]\n",
            "Argmax col:  [1 0 1]\n",
            "Max value:  6\n",
            "Max value in rows:  [3 6]\n",
            "Max value in cols:  [2 3 6]\n"
          ]
        }
      ],
      "source": [
        "# Running basic mathematical functions on arrays\n",
        "\n",
        "array = np.array([[1,2],\n",
        "                  [3,0],\n",
        "                  [0,6]])\n",
        "print(\"__array__\")\n",
        "print(array)\n",
        "\n",
        "print(\"Total sum: \", array.sum())\n",
        "print(\"Total mean: \", array.mean())\n",
        "print(\"Total std: \", array.std())\n",
        "print(\"Total min: \", array.min())\n",
        "print(\"Total max: \", array.max())\n",
        "print(\"Total cumsum: \", array.cumsum())\n",
        "\n",
        "print(\"___\")\n",
        "\n",
        "print(\"Sum over rows: \", array.sum(axis=0))\n",
        "print(\"Sum over cols: \", array.sum(axis=1))\n",
        "print(\"Sum first col: \", array[:,0].sum())\n",
        "\n",
        "print(\"___\")\n",
        "\n",
        "print(\"Argmax flat: \", np.argmax(array)) # Return index of max element in an array (not the element)\n",
        "print(\"Argmax row: \", np.argmax(array, axis=0)) # Return index of max element of cols between rows\n",
        "print(\"Argmax col: \", np.argmax(array, axis=1)) # Return index of max element of rows between cols\n",
        "\n",
        "print(\"Max value: \", np.amax(array))  # Return max element in entire array\n",
        "print(\"Max value in rows: \", np.amax(array, axis=0)) # Return max element in rows\n",
        "print(\"Max value in cols: \", np.amax(array, axis=1)) # Return max elements in cols\n",
        "\n",
        "# Argmin and amin are function for finding min index and min value\n"
      ]
    },
    {
      "cell_type": "code",
      "execution_count": null,
      "id": "a146e7e4",
      "metadata": {
        "id": "a146e7e4",
        "outputId": "776954af-898c-4ff0-9b9c-c778adcc7b5c"
      },
      "outputs": [
        {
          "name": "stdout",
          "output_type": "stream",
          "text": [
            "Current data type : int64\n",
            "Float data type : float64\n",
            "String data type : <U21\n"
          ]
        }
      ],
      "source": [
        "# Change the data dtype of existing NumPy array\n",
        "\n",
        "array = np.array([[1,2],\n",
        "                  [3,0],\n",
        "                  [0,6]])\n",
        "\n",
        "print(\"Current data type :\", array.dtype)\n",
        "\n",
        "# Change the type to float\n",
        "float_array = array.astype(np.float)\n",
        "print(\"Float data type :\", float_array.dtype)\n",
        "\n",
        "# Change the type to string\n",
        "string_array = array.astype(np.str)\n",
        "print(\"String data type :\", string_array.dtype)\n"
      ]
    },
    {
      "cell_type": "code",
      "execution_count": null,
      "id": "d1802c05",
      "metadata": {
        "id": "d1802c05",
        "outputId": "2981eb75-ca15-4f52-d043-9f3f65b7bbe6"
      },
      "outputs": [
        {
          "name": "stdout",
          "output_type": "stream",
          "text": [
            "Range 1:  [0 1 2 3 4 5 6 7 8 9]\n",
            "Range 2:  [0 1 2 3 4 5 6 7 8 9]\n",
            "Range 3:  [10  9  8  7  6  5  4  3  2  1]\n",
            "Range 4:  [1.1 1.4 1.7 2.  2.3 2.6 2.9 3.2 3.5 3.8 4.1]\n",
            "Llinspace 1 : [ 0.   2.5  5.   7.5 10. ]\n",
            "Llinspace 2 : [1.1        1.45555556 1.81111111 2.16666667 2.52222222 2.87777778\n",
            " 3.23333333 3.58888889 3.94444444 4.3       ]\n"
          ]
        }
      ],
      "source": [
        "# Create a NumPy range of numbers. np.arange(start, stop, step, dtype)\n",
        "\n",
        "range_1 = np.arange(0, 10, 1) # stop (10) is excluded\n",
        "print(\"Range 1: \", range_1)\n",
        "\n",
        "range_2 = np.arange(10)  # same as range_1, defaul start is 0, defautl step is 1\n",
        "print(\"Range 2: \", range_2)\n",
        "\n",
        "range_3 = np.arange(10, 0, -1) # reverse order\n",
        "print(\"Range 3: \", range_3)\n",
        "\n",
        "range_4 = np.arange(1.1, 4.3, .3) # range with float numbers\n",
        "print(\"Range 4: \", range_4)\n",
        "\n",
        "# Create evenly spaced numbers over a specified interval\n",
        "linspace_1 = np.linspace(0, 10, 5) # (start, stop, number of samples)\n",
        "print(\"Llinspace 1 :\", linspace_1)\n",
        "\n",
        "linspace_2 = np.linspace(1.1, 4.3, 10) # 10 numbers starting 1.1 and ending 4.3\n",
        "print(\"Llinspace 2 :\", linspace_2)\n"
      ]
    },
    {
      "cell_type": "code",
      "execution_count": null,
      "id": "f3813493",
      "metadata": {
        "id": "f3813493",
        "outputId": "64e8649d-67bd-4369-c660-cdbc9c4b3416"
      },
      "outputs": [
        {
          "name": "stdout",
          "output_type": "stream",
          "text": [
            "__zeors_array__\n",
            "[[0. 0. 0. 0.]\n",
            " [0. 0. 0. 0.]\n",
            " [0. 0. 0. 0.]]\n",
            "__ones_array__\n",
            "[[1. 1. 1. 1.]\n",
            " [1. 1. 1. 1.]\n",
            " [1. 1. 1. 1.]]\n",
            "__empty_array__\n",
            "[[1. 1. 1. 1.]\n",
            " [1. 1. 1. 1.]\n",
            " [1. 1. 1. 1.]]\n",
            "__full_array__\n",
            "[[44 44 44 44]\n",
            " [44 44 44 44]\n",
            " [44 44 44 44]]\n",
            "__full_array_bool__\n",
            "[[False False False False]\n",
            " [False False False False]\n",
            " [False False False False]]\n",
            "__full_like_array__\n",
            "[[22 22]\n",
            " [22 22]\n",
            " [22 22]]\n",
            "__tile_array__\n",
            "[3 3 3 3]\n",
            "__tile_array_2__\n",
            "[[3 3 3 3]\n",
            " [3 3 3 3]\n",
            " [3 3 3 3]\n",
            " [3 3 3 3]\n",
            " [3 3 3 3]]\n",
            "__repeat_array__\n",
            "[1 1 1 1 2 2 2 2 3 3 3 3]\n",
            "__tile_array_of_a_list__\n",
            "[1 2 3 1 2 3 1 2 3]\n",
            "___\n",
            "__array__\n",
            "[[1 2]\n",
            " [3 0]\n",
            " [0 6]]\n",
            "__repeat_each_row__\n",
            "[[1 2]\n",
            " [1 2]\n",
            " [3 0]\n",
            " [3 0]\n",
            " [0 6]\n",
            " [0 6]]\n",
            "__repeat_each_col__\n",
            "[[1 1 2 2]\n",
            " [3 3 0 0]\n",
            " [0 0 6 6]]\n"
          ]
        }
      ],
      "source": [
        "# Create a zeros array, all values are zero\n",
        "zeors_array = np.zeros((3,4)) # shape of 3,4\n",
        "print(\"__zeors_array__\")\n",
        "print(zeors_array)\n",
        "\n",
        "# Create an ones array, all values are one\n",
        "ones_array = np.ones((3,4)) # shape of 3,4\n",
        "print(\"__ones_array__\")\n",
        "print(ones_array)\n",
        "\n",
        "# Create an empty array, all values are some random number to be replaced later\n",
        "empty_array = np.empty((3,4)) # shape of 3,4\n",
        "print(\"__empty_array__\")\n",
        "print(empty_array)\n",
        "\n",
        "# Create a full array, all values are set to value you set\n",
        "full_array = np.full((3,4), 44) # shape of 3,4. Set value 44\n",
        "print(\"__full_array__\")\n",
        "print(full_array)\n",
        "full_array_bool = np.full((3,4), False) # shape of 3,4. Set value False\n",
        "print(\"__full_array_bool__\")\n",
        "print(full_array_bool)\n",
        "\n",
        "# Create a full_like array, all values are set to value you set, but shape is same as given array\n",
        "full_like_array = np.full_like(array, 22) # shape same as given array, all values 22\n",
        "print(\"__full_like_array__\")\n",
        "print(full_like_array)\n",
        "\n",
        "# Create a tile array, all values are set to value you set\n",
        "tile_array = np.tile(3, 4) # repeat value 3 for 4 times\n",
        "print(\"__tile_array__\")\n",
        "print(tile_array)\n",
        "tile_array_2 = np.tile(3, (5,4)) # repeat 3, in the shape 5,4. Value can also be an array to repeat\n",
        "print(\"__tile_array_2__\")\n",
        "print(tile_array_2)\n",
        "\n",
        "# Create repeat array, all values are set to value you set\n",
        "repeat_array = np.repeat([1,2,3], 4) # repeat each item for 4 times.\n",
        "print(\"__repeat_array__\")\n",
        "print(repeat_array)\n",
        "print(\"__tile_array_of_a_list__\")\n",
        "print(np.tile([1,2,3], 3))       # compare this with `repeat_array`, it repeats the list for 3 times\n",
        "\n",
        "print(\"___\")\n",
        "\n",
        "print(\"__array__\")\n",
        "print(array)\n",
        "print(\"__repeat_each_row__\")\n",
        "repeat_each_row = np.repeat(array, 2, axis=0) # repeat each row (axis=0) 2 times\n",
        "print(repeat_each_row)\n",
        "print(\"__repeat_each_col__\")\n",
        "repeat_each_col = np.repeat(array, 2, axis=1) # repeat each col (axis=1) 2 times\n",
        "print(repeat_each_col)\n"
      ]
    },
    {
      "cell_type": "code",
      "execution_count": null,
      "id": "150dccac",
      "metadata": {
        "id": "150dccac",
        "outputId": "85a433ef-67ac-4b94-ca5d-08b8b82e106d"
      },
      "outputs": [
        {
          "name": "stdout",
          "output_type": "stream",
          "text": [
            "__identity_array__\n",
            "[[1. 0. 0. 0.]\n",
            " [0. 1. 0. 0.]\n",
            " [0. 0. 1. 0.]\n",
            " [0. 0. 0. 1.]]\n",
            "__upper_eye_array__\n",
            "[[0. 1. 0. 0.]\n",
            " [0. 0. 1. 0.]\n",
            " [0. 0. 0. 1.]]\n",
            "__lower_eye_array__\n",
            "[[0. 0. 0. 0.]\n",
            " [1. 0. 0. 0.]\n",
            " [0. 1. 0. 0.]]\n"
          ]
        }
      ],
      "source": [
        "# Create an identity array: 2-D array with ones on the diagonal and zeros elsewhere\n",
        "identity_array = np.identity(4) # only one dimension given\n",
        "print(\"__identity_array__\")\n",
        "print(identity_array)\n",
        "\n",
        "# Create an eye array: 2-D array with ones on the diagonal and zeros elsewhere, shape can be anything\n",
        "# If K=0 and shape is same for each dimension, eye is same as identity\n",
        "upper_eye_array = np.eye(3,4, k=1) # shape of (3,4). K positive for upper ones\n",
        "print(\"__upper_eye_array__\")\n",
        "print(upper_eye_array)\n",
        "lower_eye_array = np.eye(3,4, k=-1) # shape of (3,4). K positive for lower ones\n",
        "print(\"__lower_eye_array__\")\n",
        "print(lower_eye_array)\n",
        "\n"
      ]
    },
    {
      "cell_type": "code",
      "execution_count": null,
      "id": "4432793f",
      "metadata": {
        "id": "4432793f",
        "outputId": "cb67506b-c9f1-41f4-f02d-1349db24c639"
      },
      "outputs": [
        {
          "name": "stdout",
          "output_type": "stream",
          "text": [
            "__A__\n",
            "[[1 2]\n",
            " [3 0]\n",
            " [0 6]]\n",
            "__B_is_A__\n",
            "B is A?:  True\n",
            "B share memory with A:  True\n",
            "__updated_A__\n",
            "[[1000    2]\n",
            " [   3    0]\n",
            " [   0    6]]\n",
            "__C__\n",
            "[[1000    2]\n",
            " [   3    0]\n",
            " [   0    6]]\n",
            "C is A?:  False\n",
            "C share memory with A:  False\n"
          ]
        }
      ],
      "source": [
        "# Copy vs view of an array\n",
        "A = np.array([[1,2],\n",
        "                  [3,0],\n",
        "                  [0,6]])\n",
        "print(\"__A__\")\n",
        "print(A)\n",
        "\n",
        "# This is not a copy. B is just another name for A not a new array\n",
        "B = A\n",
        "print(\"__B_is_A__\")\n",
        "print(\"B is A?: \", B is A)\n",
        "print(\"B share memory with A: \", np.shares_memory(A, B))\n",
        "\n",
        "# Changing B will change A as well\n",
        "B[0,0] = 1000\n",
        "print(\"__updated_A__\")\n",
        "print(A)\n",
        "\n",
        "# To make a new array you can use .copy(). Updating C does not update A.\n",
        "C = A.copy()\n",
        "print(\"__C__\")\n",
        "print(C)\n",
        "print(\"C is A?: \", C is A)\n",
        "print(\"C share memory with A: \", np.shares_memory(A, C))\n",
        "\n"
      ]
    },
    {
      "cell_type": "markdown",
      "id": "ff647e5e",
      "metadata": {
        "id": "ff647e5e"
      },
      "source": [
        "### Random array"
      ]
    },
    {
      "cell_type": "code",
      "execution_count": null,
      "id": "c0d3d0e4",
      "metadata": {
        "id": "c0d3d0e4",
        "outputId": "1cf847cc-ab66-4146-eda7-72060c912b0a"
      },
      "outputs": [
        {
          "name": "stdout",
          "output_type": "stream",
          "text": [
            "__random_array__\n",
            "[[0.51182162 0.9504637  0.14415961]\n",
            " [0.94864945 0.31183145 0.42332645]\n",
            " [0.82770259 0.40919914 0.54959369]\n",
            " [0.02755911 0.75351311 0.53814331]]\n",
            "__random_array__\n",
            "[[0.13125426 0.76558875 0.92163279]\n",
            " [0.85965555 0.60504508 0.99208754]\n",
            " [0.31149952 0.83830594 0.82814844]\n",
            " [0.63133765 0.79802764 0.79872472]]\n",
            "__random_normal_array_1__\n",
            "[[-2.02725588 -1.91725921 -2.26475291]\n",
            " [-0.24019159 -0.35239181  0.51650522]\n",
            " [ 0.49097254  0.93025098  0.84880112]\n",
            " [-0.14632408 -0.48857646 -0.33392866]]\n",
            "__random_normal_array_2__\n",
            "[3.1939988  2.87003446 2.83742667 3.0200198  3.07124875 3.02254081\n",
            " 3.10035553 2.9707152  3.05781803 3.03399613]\n",
            "__random_init_array_1__\n",
            "[5 7 4 4 6 7 7 2 5 4]\n",
            "__random_init_array_2__\n",
            "[[4 5 4]\n",
            " [3 7 6]\n",
            " [4 2 6]\n",
            " [2 3 4]]\n",
            "__random_init_array_3__\n",
            "[[3 5 1]\n",
            " [7 0 6]\n",
            " [2 6 3]\n",
            " [2 6 7]]\n"
          ]
        }
      ],
      "source": [
        "# Generate some random arrays\n",
        "\n",
        "# Construct a new Generator with the default BitGenerator (PCG64).\n",
        "random_generator = np.random.default_rng(seed=1)\n",
        "print(\"__random_array__\")\n",
        "print(random_generator.random((4,3))) # random array shape 4,3\n",
        "\n",
        "print(\"__random_array__\")\n",
        "print(np.random.rand(4,3))\n",
        "\n",
        "# Return a samples from the \"standard normal\" distribution\n",
        "print(\"__random_normal_array_1__\")\n",
        "print(np.random.randn(4,3))\n",
        "\n",
        "# Draw random samples from a normal (Gaussian) distribution\n",
        "print(\"__random_normal_array_2__\")\n",
        "print(np.random.normal(size=10, loc=3, scale=.2)) # 10 points with mean of 3 and with std of 0.2\n",
        "\n",
        "print(\"__random_init_array_1__\")\n",
        "print(np.random.randint(2, 8, size=10)) # low=2, high=8, size is shape\n",
        "\n",
        "print(\"__random_init_array_2__\")\n",
        "print(np.random.randint(2, 8, size=(4,3))) # low=2, high=8, size is shape\n",
        "\n",
        "print(\"__random_init_array_3__\")\n",
        "print(np.random.randint(8, size=(4,3))) # low=0, high=8, size is shape\n"
      ]
    },
    {
      "cell_type": "markdown",
      "id": "1f0f6fa6",
      "metadata": {
        "id": "1f0f6fa6"
      },
      "source": [
        "### Basic Operations"
      ]
    },
    {
      "cell_type": "code",
      "execution_count": null,
      "id": "7becb7ae",
      "metadata": {
        "id": "7becb7ae",
        "outputId": "eae89075-8ab0-4532-a936-b33185033c19"
      },
      "outputs": [
        {
          "name": "stdout",
          "output_type": "stream",
          "text": [
            "__A__\n",
            "[0 1 2 3]\n",
            "__B__\n",
            "[5 6 7 8]\n",
            "__A+B__\n",
            "[ 5  7  9 11]\n",
            "A and C share memory:  False\n",
            "__A*B*np.sin(A)__\n",
            "[ 0.          5.04882591 12.73016398  3.38688019]\n",
            "__A@B__\n",
            "44\n",
            "__exp(A)__\n",
            "[ 1.          2.71828183  7.3890561  20.08553692]\n",
            "__sqrt(A)__\n",
            "[0.         1.         1.41421356 1.73205081]\n",
            "__A+=B__\n",
            "[ 5  7  9 11]\n",
            "__A*=B__\n",
            "[25 42 63 88]\n",
            "__A//=B__\n",
            "[ 5  7  9 11]\n"
          ]
        }
      ],
      "source": [
        "A = np.arange(0,4)\n",
        "B = np.arange(5,9)\n",
        "print(\"__A__\")\n",
        "print(A)\n",
        "print(\"__B__\")\n",
        "print(B)\n",
        "\n",
        "# Adding to new variable creates a new copy of data, does not change original arrays\n",
        "C = A + B  # A and B has to be same shape, or refer to broadcasting section.\n",
        "print(\"__A+B__\")\n",
        "print(C)           # same as np.add(A,B). For subtract use np.subtract(A,B)\n",
        "print(\"A and C share memory: \", np.shares_memory(C, A)) # C and A are different arrays in memory\n",
        "\n",
        "C = A * B * np.sin(A)\n",
        "print(\"__A*B*np.sin(A)__\")\n",
        "print(C)\n",
        "\n",
        "# Dot product of two arrays. Specifically.\n",
        "C = A @ B\n",
        "print(\"__A@B__\")\n",
        "print(C)\n",
        "\n",
        "# Calculate exponential of all elements\n",
        "print(\"__exp(A)__\")\n",
        "print(np.exp(A))\n",
        "\n",
        "# Calculate non-negative square-root of all elements\n",
        "print(\"__sqrt(A)__\")\n",
        "print(np.sqrt(A))\n",
        "\n",
        "# Operations bellow happen in-place, means it changes the original array\n",
        "A+=B\n",
        "print(\"__A+=B__\")\n",
        "print(A)   # array A has changed forever, not a view anymore\n",
        "\n",
        "A*=B\n",
        "print(\"__A*=B__\")\n",
        "print(A)   # array A has changed forever, not a view anymore\n",
        "\n",
        "A//=B\n",
        "print(\"__A//=B__\")\n",
        "print(A)   # array A has changed forever, not a view anymore\n"
      ]
    },
    {
      "cell_type": "markdown",
      "id": "a4e27be4",
      "metadata": {
        "id": "a4e27be4"
      },
      "source": [
        "### Flattening array"
      ]
    },
    {
      "cell_type": "code",
      "execution_count": null,
      "id": "3e906947",
      "metadata": {
        "id": "3e906947",
        "outputId": "90596124-9882-4298-bab1-e40b1ae8f0fd"
      },
      "outputs": [
        {
          "name": "stdout",
          "output_type": "stream",
          "text": [
            "__array__\n",
            "[[1 2]\n",
            " [3 0]\n",
            " [0 6]]\n",
            "__flat_array__\n",
            "[1, 2, 3, 0, 0, 6]\n",
            "__flatten_array__\n",
            "[1 2 3 0 0 6]\n",
            "Share memory with array:  False\n",
            "__ravel_array__\n",
            "[1 2 3 0 0 6]\n",
            "Share memory with array:  True\n",
            "__flat_non-zero_indexes__\n",
            "[0 1 2 5]\n",
            "__non-zero_elements__\n",
            "[1 2 3 6]\n"
          ]
        }
      ],
      "source": [
        "array = np.array([[1,2],\n",
        "                  [3,0],\n",
        "                  [0,6]])\n",
        "print(\"__array__\")\n",
        "print(array)\n",
        "\n",
        "print(\"__flat_array__\")\n",
        "print([each for each in array.flat]) # A 1-D iterator over the array\n",
        "\n",
        "print(\"__flatten_array__\")\n",
        "print(array.flatten())   # Return a copy of the array collapsed into one dimension.\n",
        "                         # Note: a new copy being put in memory. Not just a view.\n",
        "print(\"Share memory with array: \", np.shares_memory(array.flatten(), array))\n",
        "\n",
        "print(\"__ravel_array__\")\n",
        "print(np.ravel(array))   # just a flat view, does not create a new copy\n",
        "\n",
        "print(\"Share memory with array: \", np.shares_memory(np.ravel(array), array))\n",
        "\n",
        "print(\"__flat_non-zero_indexes__\")\n",
        "print(np.flatnonzero(array))    # Return indexes of non-zero itmes in flat format\n",
        "print(\"__non-zero_elements__\")\n",
        "print(np.ravel(array)[np.flatnonzero(array)])\n"
      ]
    },
    {
      "cell_type": "markdown",
      "id": "46c91c28",
      "metadata": {
        "id": "46c91c28"
      },
      "source": [
        "### Indexing, Slicing and iterating"
      ]
    },
    {
      "cell_type": "code",
      "execution_count": null,
      "id": "de06b2d6",
      "metadata": {
        "id": "de06b2d6",
        "outputId": "3098d50a-cf82-48cf-f050-0e54c7d99c14"
      },
      "outputs": [
        {
          "name": "stdout",
          "output_type": "stream",
          "text": [
            "__array__\n",
            "[[1 2 3]\n",
            " [3 0 4]\n",
            " [0 6 5]]\n",
            "__slice_1__\n",
            "2\n",
            "__slice_2__\n",
            "[1 2 3]\n",
            "__slice_3__\n",
            "[2 0 6]\n",
            "__slice_4__\n",
            "[2 0]\n",
            "__slice_5__\n",
            "[3 4 5]\n",
            "__slice_6__\n",
            "[[1 2 3]\n",
            " [3 0 4]]\n",
            "__reverse_array_row__\n",
            "[[0 6 5]\n",
            " [3 0 4]\n",
            " [1 2 3]]\n",
            "__reverse_array_col__\n",
            "[[3 2 1]\n",
            " [4 0 3]\n",
            " [5 6 0]]\n",
            "__reverse_array_row_col__\n",
            "[[5 6 0]\n",
            " [4 0 3]\n",
            " [3 2 1]]\n",
            "Same as np.flip:  True\n",
            "__every_other_element_row__\n",
            "[[1 2 3]\n",
            " [0 6 5]]\n",
            "__every_other_element_col__\n",
            "[[1 3]\n",
            " [3 4]\n",
            " [0 5]]\n",
            "__transpose_array__\n",
            "[[1 3 0]\n",
            " [2 0 6]\n",
            " [3 4 5]]\n"
          ]
        }
      ],
      "source": [
        "array = np.array([[1,2,3],\n",
        "                  [3,0,4],\n",
        "                  [0,6,5]])\n",
        "print(\"__array__\")\n",
        "print(array)\n",
        "\n",
        "# If 1D array then: array[index]\n",
        "# If 2D array then: array[row_filter, col_filterstep]  separated with comma\n",
        "# If 3D array[sheet_filter, row_filter, col_filter]\n",
        "# If any dimension not mentioned means all of that dimension:\n",
        "#    array[3] mean row index 2 and all columns, same as array[3,:]\n",
        "\n",
        "# If 2D: array[start_row : stop_row : step_row , start_col : stop_col, step_col ]\n",
        "\n",
        "# When fewer indices are provided than the number of axes, the missing indices are considered complete slices:\n",
        "#    array[0] this means all columns in first row same as array[0, :]\n",
        "\n",
        "print(\"__slice_1__\")\n",
        "print(array[0,1])   # get first row (index 0) and second col (index 1)\n",
        "\n",
        "print(\"__slice_2__\")\n",
        "print(array[0])   # get first row (index 0) and all columns, same as array[0,:]\n",
        "\n",
        "print(\"__slice_3__\")\n",
        "print(array[:,1])   # get all rows and second col (index 1)\n",
        "\n",
        "print(\"__slice_4__\")\n",
        "print(array[0:2,1]) # get first and second row and second col (index 1)\n",
        "\n",
        "print(\"__slice_5__\")\n",
        "print(array[:,-1])  # get all rows and last column\n",
        "\n",
        "print(\"__slice_6__\")\n",
        "print(array[:-1])  # get all rows except last row\n",
        "\n",
        "print(\"__reverse_array_row__\")\n",
        "print(array[::-1])  # step -1 means move from last to first row\n",
        "\n",
        "print(\"__reverse_array_col__\")\n",
        "print(array[:,::-1])  # step -1 means move from last to first col\n",
        "\n",
        "print(\"__reverse_array_row_col__\")\n",
        "print(array[::-1,::-1])  # reverse row and column same as np.flip\n",
        "print(\"Same as np.flip: \", np.array_equal(np.flip(array), array[::-1, ::-1]))\n",
        "\n",
        "print(\"__every_other_element_row__\")\n",
        "print(array[::2])  # every other row\n",
        "\n",
        "print(\"__every_other_element_col__\")\n",
        "print(array[:, ::2])  # every other col\n",
        "\n",
        "print(\"__transpose_array__\")\n",
        "print(array.T)  # same as np.transpose(array)\n"
      ]
    },
    {
      "cell_type": "code",
      "execution_count": null,
      "id": "4424095b",
      "metadata": {
        "id": "4424095b",
        "outputId": "7650ade8-1a3e-431e-a966-66e689b9c871"
      },
      "outputs": [
        {
          "name": "stdout",
          "output_type": "stream",
          "text": [
            "__array__\n",
            "[[1 2 3]\n",
            " [3 0 4]\n",
            " [0 6 5]]\n",
            "__slicing_1__\n",
            "[2 4]\n",
            "__slicing_2__\n",
            "[2 1 5]\n",
            "__ix_1__\n",
            "(array([[0],\n",
            "       [1]]), array([[1, 2]]))\n",
            "[[2 3]\n",
            " [0 4]]\n",
            "[[2 3]\n",
            " [0 4]]\n",
            "__ix_2__\n",
            "[[3 3]\n",
            " [4 4]]\n"
          ]
        }
      ],
      "source": [
        "array = np.array([[1,2,3],\n",
        "                  [3,0,4],\n",
        "                  [0,6,5]])\n",
        "print(\"__array__\")\n",
        "print(array)\n",
        "\n",
        "# Slicing using list of rows and cols (2D example). array([list of rows], [list of cols])\n",
        "print(\"__slicing_1__\")\n",
        "print(array[[0,1], [1,2]]) # Return (Row 0 and Col 1) and (Row 1 and col 2)\n",
        "\n",
        "print(\"__slicing_2__\")\n",
        "print(array[[0,0,2], [1,0,2]]) # Return (Row 0 and Col 1) and (Row 0 and col 0) and (Row 2 and col 2)\n",
        "\n",
        "\n",
        "# Construct an open mesh from multiple sequences\n",
        "print(\"__ix_1__\")\n",
        "print(np.ix_([0,1], [1,2])) # Returns indices of: [[0,1], [0,2], [1,1], [1,2]]\n",
        "print(array[np.ix_([0,1], [1,2])])\n",
        "print(array[[0, 0, 1, 1], [1, 2, 1, 2]].reshape(2,2)) # Same as line above\n",
        "\n",
        "print(\"__ix_2__\")\n",
        "print(array[np.ix_([0,1], [2,2])])  # Order does not matter, duplication is allowed\n"
      ]
    },
    {
      "cell_type": "code",
      "execution_count": null,
      "id": "fe0a9a6e",
      "metadata": {
        "id": "fe0a9a6e",
        "outputId": "b91a6561-4f89-4041-e0dc-347695bed90f"
      },
      "outputs": [
        {
          "name": "stdout",
          "output_type": "stream",
          "text": [
            "__array__\n",
            "[[ 1  2  3]\n",
            " [ 3 13  4]\n",
            " [ 0  6  5]]\n",
            "__basic_indexing__\n",
            "13\n",
            "__advanced_indexing__\n",
            "[[ 3 13  4]\n",
            " [ 3 13  4]]\n"
          ]
        }
      ],
      "source": [
        "# Basic vs Advanced Indexing\n",
        "array = np.array([[1,2,3],\n",
        "                  [3,13,4],\n",
        "                  [0,6,5]])\n",
        "print(\"__array__\")\n",
        "print(array)\n",
        "\n",
        "# Using tuple triggers basic indexing\n",
        "print(\"__basic_indexing__\")\n",
        "print(array[(1,1)])\n",
        "\n",
        "print(\"__advanced_indexing__\")\n",
        "# Using list triggers basic indexing\n",
        "print(array[[1,1]])\n"
      ]
    },
    {
      "cell_type": "code",
      "execution_count": null,
      "id": "c182a1be",
      "metadata": {
        "id": "c182a1be",
        "outputId": "45a8885f-07c9-4108-c36e-ee862b073602"
      },
      "outputs": [
        {
          "name": "stdout",
          "output_type": "stream",
          "text": [
            "Shape of A: (5, 5)\n",
            "Shape of B: (5, 5, 3)\n",
            "A new shape:  (5, 5, 1)\n",
            "__A+B__\n",
            "[[[ 0  1  2]\n",
            "  [ 4  5  6]\n",
            "  [ 8  9 10]\n",
            "  [12 13 14]\n",
            "  [16 17 18]]\n",
            "\n",
            " [[20 21 22]\n",
            "  [24 25 26]\n",
            "  [28 29 30]\n",
            "  [32 33 34]\n",
            "  [36 37 38]]\n",
            "\n",
            " [[40 41 42]\n",
            "  [44 45 46]\n",
            "  [48 49 50]\n",
            "  [52 53 54]\n",
            "  [56 57 58]]\n",
            "\n",
            " [[60 61 62]\n",
            "  [64 65 66]\n",
            "  [68 69 70]\n",
            "  [72 73 74]\n",
            "  [76 77 78]]\n",
            "\n",
            " [[80 81 82]\n",
            "  [84 85 86]\n",
            "  [88 89 90]\n",
            "  [92 93 94]\n",
            "  [96 97 98]]]\n"
          ]
        }
      ],
      "source": [
        "# Array Broadcasting\n",
        "# Broadcasting describes how NumPy treats arrays with different shapes during arithmetic operations.\n",
        "\n",
        "A = np.arange(25).reshape(5,5)\n",
        "B = np.arange(75).reshape(5,5,3)\n",
        "print(\"Shape of A:\", A.shape)\n",
        "print(\"Shape of B:\", B.shape)\n",
        "\n",
        "# As you can see shape of A and B are not same, we cannot broadcast them together\n",
        "# np.add(A, B) will give us an error.\n",
        "# To solve this we can add another dimension to A using np.newaxis\n",
        "\n",
        "A = A[:,:, np.newaxis]\n",
        "print(\"A new shape: \", A.shape)\n",
        "\n",
        "# Now we can add two arrays of A and B\n",
        "print(\"__A+B__\")\n",
        "print(np.add(A, B))\n",
        "\n",
        "# Broadcasting is only allowed if two arrays have same dimensions\n",
        "#    of one dimension is 1 and the other can be any value\n",
        "# For example: (3,4,1)+(3,4,9) is ok\n",
        "#              (3,4,2)+(3,4,9) is not ok as third dimension if first array is 2 and second array is 9\n"
      ]
    },
    {
      "cell_type": "code",
      "execution_count": null,
      "id": "f1c852b4",
      "metadata": {
        "id": "f1c852b4",
        "outputId": "b9380c67-dc82-4fb2-846b-f8bb110792ec"
      },
      "outputs": [
        {
          "name": "stdout",
          "output_type": "stream",
          "text": [
            "__array__\n",
            "[[ 9 10  3  4]\n",
            " [ 3  8 18  3]\n",
            " [10 19  9 15]\n",
            " [ 9  2  7  3]]\n",
            "__X__\n",
            "[[ 9 10]\n",
            " [ 3  8]]\n",
            "X share memory with array:  True\n",
            "__updated_X__\n",
            "[[100  10]\n",
            " [  3   8]]\n",
            "__updated_array__\n",
            "[[100  10   3   4]\n",
            " [  3   8  18   3]\n",
            " [ 10  19   9  15]\n",
            " [  9   2   7   3]]\n",
            "__Z__\n",
            "[[  100    10]\n",
            " [    3 -9999]]\n",
            "Z share memory with array:  False\n",
            "__original_array__\n",
            "[[100  10   3   4]\n",
            " [  3   8  18   3]\n",
            " [ 10  19   9  15]\n",
            " [  9   2   7   3]]\n"
          ]
        }
      ],
      "source": [
        "# View vs copy of slice of an array\n",
        "array = np.random.randint(20, size=(4,4))\n",
        "print(\"__array__\")\n",
        "print(array)\n",
        "\n",
        "# Create a new subset of an array\n",
        "X = array[:2,:2]  # This is only a view. Array X does not exists in the memory, it is reference to array\n",
        "print(\"__X__\")\n",
        "print(X)\n",
        "print(\"X share memory with array: \", np.shares_memory(X, array))\n",
        "\n",
        "# Changing value of X does change the origianl array as well\n",
        "X[0,0] = 100\n",
        "print(\"__updated_X__\")\n",
        "print(X)\n",
        "\n",
        "print(\"__updated_array__\")\n",
        "print(array)\n",
        "\n",
        "# To make sure original array does not change then make a copy\n",
        "Z = array[:2,:2].copy()\n",
        "Z[1,1] = -9999\n",
        "print(\"__Z__\")\n",
        "print(Z)\n",
        "print(\"Z share memory with array: \", np.shares_memory(Z, array))\n",
        "\n",
        "print(\"__original_array__\")\n",
        "print(array) # The index [1,1] did not change to -9999\n"
      ]
    },
    {
      "cell_type": "markdown",
      "id": "6baa55ea",
      "metadata": {
        "id": "6baa55ea"
      },
      "source": [
        "### Shape Manipulation"
      ]
    },
    {
      "cell_type": "code",
      "execution_count": null,
      "id": "24d76211",
      "metadata": {
        "id": "24d76211",
        "outputId": "428b9c4e-87a1-4473-b621-bc63804fb83f"
      },
      "outputs": [
        {
          "name": "stdout",
          "output_type": "stream",
          "text": [
            "__array__\n",
            "[ 3 10 22  7  2 28 20 16 21 15  3 17 14 25 13 29 25  0  1 21 27  5 29  4\n",
            " 19  2 28 18 11  5]\n",
            "Array shape:  (30,)\n",
            "__reshape_1__\n",
            "[[ 3 10 22  7  2]\n",
            " [28 20 16 21 15]\n",
            " [ 3 17 14 25 13]\n",
            " [29 25  0  1 21]\n",
            " [27  5 29  4 19]\n",
            " [ 2 28 18 11  5]]\n",
            "__reshape_2__\n",
            "[[ 3 10 22  7  2 28]\n",
            " [20 16 21 15  3 17]\n",
            " [14 25 13 29 25  0]\n",
            " [ 1 21 27  5 29  4]\n",
            " [19  2 28 18 11  5]]\n",
            "__reshape_3__\n",
            "[[ 3 28  3 29 27  2]\n",
            " [10 20 17 25  5 28]\n",
            " [22 16 14  0 29 18]\n",
            " [ 7 21 25  1  4 11]\n",
            " [ 2 15 13 21 19  5]]\n",
            "(5, 6)\n",
            "__resize__\n",
            "[[ 3 10 22  7  2 28 20 16 21 15]\n",
            " [ 3 17 14 25 13 29 25  0  1 21]\n",
            " [27  5 29  4 19  2 28 18 11  5]]\n"
          ]
        }
      ],
      "source": [
        "array = np.random.randint(30, size=30)\n",
        "print(\"__array__\")\n",
        "print(array)\n",
        "print(\"Array shape: \", array.shape)\n",
        "\n",
        "print(\"__reshape_1__\")\n",
        "print(array.reshape(6,5))  # Change shape to 6 rows and 5 column. This is just a view.\n",
        "array = array.reshape(6,5) # This will change the shape of original array\n",
        "\n",
        "print(\"__reshape_2__\")\n",
        "print(array.reshape(5,-1))  # Set a dimension to -1 will calculate that dimension automatically: (5,6)\n",
        "\n",
        "print(\"__reshape_3__\")\n",
        "print(array.T)       # Transpose replace row and column order\n",
        "print(array.T.shape)\n",
        "\n",
        "print(\"__resize__\")\n",
        "array.resize(3,10)  # Resize will reshape the array permanently (in-place). Resize does not accpet -1 as shape\n",
        "print(array)\n"
      ]
    },
    {
      "cell_type": "markdown",
      "id": "c660362c",
      "metadata": {
        "id": "c660362c"
      },
      "source": [
        "### Stacking and Splitting"
      ]
    },
    {
      "cell_type": "code",
      "execution_count": null,
      "id": "e963c242",
      "metadata": {
        "id": "e963c242",
        "outputId": "08dee76a-ad78-43e1-dc80-e0bb708084b1"
      },
      "outputs": [
        {
          "name": "stdout",
          "output_type": "stream",
          "text": [
            "__A__\n",
            "[[3. 7.]\n",
            " [3. 4.]]\n",
            "__B__\n",
            "[[1. 4.]\n",
            " [2. 2.]]\n",
            "__vstack__\n",
            "[[3. 7.]\n",
            " [3. 4.]\n",
            " [1. 4.]\n",
            " [2. 2.]]\n",
            "__hstack__\n",
            "[[3. 7. 1. 4.]\n",
            " [3. 4. 2. 2.]]\n",
            "__concatenate__\n",
            "[[3. 7.]\n",
            " [3. 4.]\n",
            " [1. 4.]\n",
            " [2. 2.]]\n",
            "__concatenate__\n",
            "[[3. 7. 1. 4.]\n",
            " [3. 4. 2. 2.]]\n"
          ]
        }
      ],
      "source": [
        "A = np.floor(10 * random_generator.random((2,2)))\n",
        "B = np.floor(10 * random_generator.random((2,2)))\n",
        "print(\"__A__\")\n",
        "print(A)\n",
        "print(\"__B__\")\n",
        "print(B)\n",
        "\n",
        "# Split an array into multiple sub-arrays vertically (row-wise)\n",
        "print(\"__vstack__\")\n",
        "print(np.vstack((A, B)))\n",
        "\n",
        "# Split an array into multiple sub-arrays horizontally (column-wise)\n",
        "print(\"__hstack__\")\n",
        "print(np.hstack((A, B)))\n",
        "\n",
        "# Use concatenate to join a sequence of arrays along an existing axis, good for 3D and above\n",
        "print(\"__concatenate__\")\n",
        "print(np.concatenate((A,B), axis=0))  # same as vstack in this case\n",
        "\n",
        "print(\"__concatenate__\")\n",
        "print(np.concatenate((A,B), axis=1))  # same as hstack in this case\n"
      ]
    },
    {
      "cell_type": "code",
      "execution_count": null,
      "id": "ee2be3a0",
      "metadata": {
        "id": "ee2be3a0",
        "outputId": "52e0c9f4-4560-4592-a1be-f586606cbd3a"
      },
      "outputs": [
        {
          "name": "stdout",
          "output_type": "stream",
          "text": [
            "__array__\n",
            "[[7. 2. 4. 9. 9. 7. 5. 2. 1. 9. 5. 1.]\n",
            " [6. 7. 6. 9. 0. 5. 4. 0. 6. 8. 5. 2.]\n",
            " [8. 5. 5. 7. 1. 8. 6. 7. 1. 8. 1. 0.]\n",
            " [8. 8. 8. 4. 2. 0. 6. 7. 8. 2. 2. 6.]]\n",
            "__vsplit_1__\n",
            "[array([[7., 2., 4., 9., 9., 7., 5., 2., 1., 9., 5., 1.],\n",
            "       [6., 7., 6., 9., 0., 5., 4., 0., 6., 8., 5., 2.]]), array([[8., 5., 5., 7., 1., 8., 6., 7., 1., 8., 1., 0.],\n",
            "       [8., 8., 8., 4., 2., 0., 6., 7., 8., 2., 2., 6.]])]\n",
            "__vsplit_2__\n",
            "[array([[7., 2., 4., 9., 9., 7., 5., 2., 1., 9., 5., 1.]]), array([[6., 7., 6., 9., 0., 5., 4., 0., 6., 8., 5., 2.]]), array([[8., 5., 5., 7., 1., 8., 6., 7., 1., 8., 1., 0.]]), array([[8., 8., 8., 4., 2., 0., 6., 7., 8., 2., 2., 6.]])]\n",
            "__vsplit_3__\n",
            "[array([[7., 2., 4., 9., 9., 7., 5., 2., 1., 9., 5., 1.]]), array([[6., 7., 6., 9., 0., 5., 4., 0., 6., 8., 5., 2.]]), array([[8., 5., 5., 7., 1., 8., 6., 7., 1., 8., 1., 0.],\n",
            "       [8., 8., 8., 4., 2., 0., 6., 7., 8., 2., 2., 6.]])]\n",
            "__hsplit_1__\n",
            "[array([[7., 2., 4.],\n",
            "       [6., 7., 6.],\n",
            "       [8., 5., 5.],\n",
            "       [8., 8., 8.]]), array([[9., 9.],\n",
            "       [9., 0.],\n",
            "       [7., 1.],\n",
            "       [4., 2.]]), array([[7., 5., 2., 1., 9., 5., 1.],\n",
            "       [5., 4., 0., 6., 8., 5., 2.],\n",
            "       [8., 6., 7., 1., 8., 1., 0.],\n",
            "       [0., 6., 7., 8., 2., 2., 6.]])]\n",
            "__array_spit_row__\n",
            "[array([[7., 2., 4., 9., 9., 7., 5., 2., 1., 9., 5., 1.],\n",
            "       [6., 7., 6., 9., 0., 5., 4., 0., 6., 8., 5., 2.]]), array([[8., 5., 5., 7., 1., 8., 6., 7., 1., 8., 1., 0.]]), array([[8., 8., 8., 4., 2., 0., 6., 7., 8., 2., 2., 6.]])]\n",
            "__array_spit_col__\n",
            "[array([[7., 2., 4., 9.],\n",
            "       [6., 7., 6., 9.],\n",
            "       [8., 5., 5., 7.],\n",
            "       [8., 8., 8., 4.]]), array([[9., 7., 5., 2.],\n",
            "       [0., 5., 4., 0.],\n",
            "       [1., 8., 6., 7.],\n",
            "       [2., 0., 6., 7.]]), array([[1., 9., 5., 1.],\n",
            "       [6., 8., 5., 2.],\n",
            "       [1., 8., 1., 0.],\n",
            "       [8., 2., 2., 6.]])]\n"
          ]
        }
      ],
      "source": [
        "array = np.floor(10 * random_generator.random((4,12)))\n",
        "print('__array__')\n",
        "print(array)\n",
        "\n",
        "print(\"__vsplit_1__\")\n",
        "print(np.vsplit(array, 2))  # split to two arrays by rows\n",
        "# cannot split by 3 because array split does not result in an equal division\n",
        "# cannot split by 5 because only has 4 rows\n",
        "print(\"__vsplit_2__\")\n",
        "print(np.vsplit(array, 4))  # split to four arrays by rows, each row is new array\n",
        "\n",
        "print(\"__vsplit_3__\")\n",
        "print(np.vsplit(array, (1,2)))  # split by row 1, by row 2 and rest of rows. Total three arrays\n",
        "\n",
        "print(\"__hsplit_1__\")\n",
        "print(np.hsplit(array, (3,5)))  # split by col 3, by col 5 and rest of cols. Total three arrays\n",
        "\n",
        "# np.array_split to split an array into multiple sub-arrays.\n",
        "print(\"__array_spit_row__\")\n",
        "print(np.array_split(array, 3, axis=0))\n",
        "\n",
        "print(\"__array_spit_col__\")\n",
        "print(np.array_split(array, 3, axis=1))\n"
      ]
    },
    {
      "cell_type": "markdown",
      "id": "292cf921",
      "metadata": {
        "id": "292cf921"
      },
      "source": [
        "### Sorting an array"
      ]
    },
    {
      "cell_type": "code",
      "execution_count": null,
      "id": "74b70c04",
      "metadata": {
        "id": "74b70c04",
        "outputId": "1cc1b3d0-84ef-421b-aac9-dd1c55deaf7b"
      },
      "outputs": [
        {
          "name": "stdout",
          "output_type": "stream",
          "text": [
            "__array__\n",
            "[[5 2 9 1]\n",
            " [7 1 1 1]\n",
            " [1 7 3 9]\n",
            " [6 7 6 6]]\n",
            "__sort_1__\n",
            "[[1 2 5 9]\n",
            " [1 1 1 7]\n",
            " [1 3 7 9]\n",
            " [6 6 6 7]]\n",
            "__sorted_array\n",
            "[[1 2 5 9]\n",
            " [1 1 1 7]\n",
            " [1 3 7 9]\n",
            " [6 6 6 7]]\n",
            "CPU times: user 13 µs, sys: 6 µs, total: 19 µs\n",
            "Wall time: 18.1 µs\n",
            "CPU times: user 5 µs, sys: 3 µs, total: 8 µs\n",
            "Wall time: 10 µs\n"
          ]
        }
      ],
      "source": [
        "array = np.random.randint(10, size=(4,4))\n",
        "print('__array__')\n",
        "print(array)\n",
        "\n",
        "print(\"__sort_1__\")\n",
        "print(np.sort(array)) # temporary sort, just a view of sorted array\n",
        "\n",
        "array.sort()\n",
        "print(\"__sorted_array\")\n",
        "print(array)          # in-place sort, it changes the original array\n",
        "\n",
        "array = np.random.randint(10, size=(4,4))\n",
        "%time np.sort(array)  # slower\n",
        "%time array.sort()    # faster"
      ]
    },
    {
      "cell_type": "code",
      "execution_count": null,
      "id": "b2ed6d1f",
      "metadata": {
        "id": "b2ed6d1f",
        "outputId": "d6f8a1f4-c7e2-4f75-de13-1fff446feedf"
      },
      "outputs": [
        {
          "name": "stdout",
          "output_type": "stream",
          "text": [
            "__sort_ascending__\n",
            "['Jack' 'Mark' 'Sarah' 'David' 'Rose']\n",
            "__sort_descending__\n",
            "['Rose' 'David' 'Sarah' 'Mark' 'Jack']\n",
            "['Rose' 'David' 'Sarah' 'Mark' 'Jack']\n"
          ]
        }
      ],
      "source": [
        "# Argsort returns the indices that would sort an array, not the sorted array\n",
        "\n",
        "scores = np.array([1, 3, 64, 100, 23])\n",
        "names = np.array([\"Jack\", \"Mark\", \"David\", \"Rose\", \"Sarah\"])\n",
        "\n",
        "# Sort names by their scores\n",
        "print(\"__sort_ascending__\")\n",
        "print(names[np.argsort(scores)])\n",
        "\n",
        "print(\"__sort_descending__\")\n",
        "print(names[np.argsort(~scores)])      # ~ is Negation\n",
        "print(names[np.argsort(scores)][::-1]) # this is same as line above\n"
      ]
    },
    {
      "cell_type": "markdown",
      "id": "6edbc54f",
      "metadata": {
        "id": "6edbc54f"
      },
      "source": [
        "### Filtering and searching"
      ]
    },
    {
      "cell_type": "code",
      "execution_count": null,
      "id": "cc21ee89",
      "metadata": {
        "id": "cc21ee89",
        "outputId": "2ae591ea-9c38-4e38-d576-7b9d5bab5a70"
      },
      "outputs": [
        {
          "name": "stdout",
          "output_type": "stream",
          "text": [
            "__array__\n",
            "[[1 2 3]\n",
            " [3 0 4]\n",
            " [0 6 5]]\n",
            "__where_1__\n",
            "(array([2, 2]), array([1, 2]))\n",
            "[6 5]\n",
            "[6 5]\n",
            "__where_2__\n",
            "[[-1 -1 -1]\n",
            " [-1 -1 -1]\n",
            " [-1  6  5]]\n",
            "__where_3__\n",
            "[[False False False]\n",
            " [False False False]\n",
            " [False  True  True]]\n"
          ]
        }
      ],
      "source": [
        "# The function numpy.where can be used to take a boolean-valued array,\n",
        "#  and produce the tuple of index-arrays that access the True entries of that array, via integer array indexing\n",
        "\n",
        "array = np.array([[1,2,3],\n",
        "                  [3,0,4],\n",
        "                  [0,6,5]])\n",
        "print(\"__array__\")\n",
        "print(array)\n",
        "\n",
        "print(\"__where_1__\")\n",
        "print(np.where(array>4))         # Returns indicies that meet the condition given\n",
        "print(array[np.where(array>4)])  # Filter array using output of np.where\n",
        "print(array[array>4])            # This is same as line above\n",
        "\n",
        "print(\"__where_2__\")\n",
        "print(np.where(array>4, array, -1))  # Any element more than 4 keep it, otherwise replace with -1\n",
        "\n",
        "print(\"__where_3__\")\n",
        "print(np.where(array>4, True, False))  # Any element more than 4 is True, otherwise is False\n"
      ]
    },
    {
      "cell_type": "code",
      "execution_count": null,
      "id": "d92a8a6d",
      "metadata": {
        "id": "d92a8a6d",
        "outputId": "872b7aa9-b5c2-4ac2-b13e-135bb0879106"
      },
      "outputs": [
        {
          "name": "stdout",
          "output_type": "stream",
          "text": [
            "__array__\n",
            "[[2 2 3]\n",
            " [2 0 4]\n",
            " [4 6 5]]\n",
            "__any_1__\n",
            "True\n",
            "__any_row__\n",
            "[ True  True  True]\n",
            "__any_col__\n",
            "[False  True  True]\n",
            "__all_1__\n",
            "False\n",
            "__all_row__\n",
            "[ True False  True]\n",
            "__all_col__\n",
            "[False False  True]\n"
          ]
        }
      ],
      "source": [
        "array = np.array([[2,2,3],\n",
        "                  [2,0,4],\n",
        "                  [4,6,5]])\n",
        "\n",
        "print(\"__array__\")\n",
        "print(array)\n",
        "\n",
        "print(\"__any_1__\")\n",
        "print(np.any(array>3))          # If any element in array has value more than 3\n",
        "\n",
        "print(\"__any_row__\")\n",
        "print(np.any(array>3, axis=0))  # If any row has value more than 3\n",
        "\n",
        "print(\"__any_col__\")\n",
        "print(np.any(array>3, axis=1))  # If any col has value more than 3\n",
        "\n",
        "\n",
        "print(\"__all_1__\")\n",
        "print(np.all(array>3))          # If all element in array has value more than 3\n",
        "\n",
        "print(\"__all_row__\")\n",
        "print(np.all(array>1, axis=0))  # If all row has value more than 1\n",
        "\n",
        "print(\"__all_col__\")\n",
        "print(np.all(array>3, axis=1))  # If all col has value more than 3\n"
      ]
    },
    {
      "cell_type": "code",
      "execution_count": null,
      "id": "327600b7",
      "metadata": {
        "id": "327600b7",
        "outputId": "64d6e54d-891d-449b-f1df-35219462275f"
      },
      "outputs": [
        {
          "name": "stdout",
          "output_type": "stream",
          "text": [
            "__array__\n",
            "[[ 2  2  3]\n",
            " [ 2  0 -4]\n",
            " [ 4 -6  5]]\n",
            "__condition_1__\n",
            "[[ True  True  True]\n",
            " [ True False False]\n",
            " [False False False]]\n",
            "[2 2 3 2]\n",
            "__condition_2__\n",
            "[[ True  True  True]\n",
            " [ True False False]\n",
            " [ True False  True]]\n",
            "__condition_3__\n",
            "[-4 -6]\n"
          ]
        }
      ],
      "source": [
        "array = np.array([[2,2,3],\n",
        "                  [2,0,-4],\n",
        "                  [4,-6,5]])\n",
        "\n",
        "print(\"__array__\")\n",
        "print(array)\n",
        "\n",
        "print(\"__condition_1__\")\n",
        "print( (array > 1) & (array < 4))  # Only returns boolean based on the conditions (AND)\n",
        "print(array[(array > 1) & (array < 4)])\n",
        "\n",
        "print(\"__condition_2__\")\n",
        "print( (array > 2) | (array > 1))  # Only returns boolean based on the conditions (OR)\n",
        "\n",
        "print(\"__condition_3__\")\n",
        "print(array[array<0])              # Filter negative elements\n",
        "\n"
      ]
    },
    {
      "cell_type": "code",
      "execution_count": null,
      "id": "010d7bdd",
      "metadata": {
        "id": "010d7bdd",
        "outputId": "db6aae66-7e82-4a96-b519-0af2ccd694f9"
      },
      "outputs": [
        {
          "name": "stdout",
          "output_type": "stream",
          "text": [
            "__array__\n",
            "[0.033333 0.034333 0.035333 0.036333 0.037333 0.038333 0.039333 0.040333\n",
            " 0.041333 0.042333 0.043333 0.044333 0.045333 0.046333 0.047333 0.048333\n",
            " 0.049333 0.050333 0.051333 0.052333 0.053333 0.054333 0.055333 0.056333\n",
            " 0.057333 0.058333 0.059333 0.060333 0.061333 0.062333 0.063333 0.064333\n",
            " 0.065333 0.066333 0.067333 0.068333 0.069333 0.070333 0.071333 0.072333\n",
            " 0.073333 0.074333 0.075333 0.076333 0.077333 0.078333 0.079333 0.080333\n",
            " 0.081333 0.082333 0.083333 0.084333 0.085333 0.086333 0.087333 0.088333\n",
            " 0.089333 0.090333 0.091333 0.092333 0.093333 0.094333 0.095333 0.096333\n",
            " 0.097333 0.098333 0.099333 0.100333 0.101333 0.102333 0.103333 0.104333\n",
            " 0.105333 0.106333 0.107333 0.108333 0.109333 0.110333]\n",
            "__filtering_float__\n",
            "[]\n",
            "__filtering_float_isclose__\n",
            "[0.033333 0.084333]\n"
          ]
        }
      ],
      "source": [
        "array = np.arange(.033333, 0.111133, .001)\n",
        "print(\"__array__\")\n",
        "print(array)\n",
        "\n",
        "# If use filter by exact match for float, there is no match\n",
        "print(\"__filtering_float__\")\n",
        "print(array[(array==0.03) | (array==.054)])\n",
        "\n",
        "print(\"__filtering_float_isclose__\")\n",
        "# np.isclose returns a boolean array where two arrays are element-wise equal within a tolerance.\n",
        "print(array[(np.isclose(array, 0.03333, rtol=0.0001)) | (np.isclose(array, 0.08433, rtol=0.0001))])\n"
      ]
    }
  ],
  "metadata": {
    "kernelspec": {
      "display_name": "Python 3",
      "language": "python",
      "name": "python3"
    },
    "language_info": {
      "codemirror_mode": {
        "name": "ipython",
        "version": 3
      },
      "file_extension": ".py",
      "mimetype": "text/x-python",
      "name": "python",
      "nbconvert_exporter": "python",
      "pygments_lexer": "ipython3",
      "version": "3.6.8"
    },
    "colab": {
      "provenance": []
    }
  },
  "nbformat": 4,
  "nbformat_minor": 5
}