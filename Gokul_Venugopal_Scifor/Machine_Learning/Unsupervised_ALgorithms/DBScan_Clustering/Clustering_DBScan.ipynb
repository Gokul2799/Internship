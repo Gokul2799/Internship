{
  "nbformat": 4,
  "nbformat_minor": 0,
  "metadata": {
    "colab": {
      "provenance": []
    },
    "kernelspec": {
      "name": "python3",
      "display_name": "Python 3"
    },
    "language_info": {
      "name": "python"
    }
  },
  "cells": [
    {
      "cell_type": "code",
      "execution_count": null,
      "metadata": {
        "id": "tyWovD1912xf"
      },
      "outputs": [],
      "source": [
        "# Necessary Imports\n",
        "\n",
        "import numpy as np\n",
        "\n",
        "from sklearn.cluster import DBSCAN\n",
        "from sklearn import metrics\n",
        "from sklearn.datasets import make_blobs\n",
        "from sklearn.preprocessing import StandardScaler"
      ]
    },
    {
      "cell_type": "code",
      "execution_count": null,
      "metadata": {
        "id": "oQU2qtLw12xf"
      },
      "outputs": [],
      "source": [
        "# Data creation\n",
        "#centers = [[1, 1], [-1, -1], [1, -1]]\n",
        "#X, labels_true = make_blobs(n_samples=750, centers=centers, cluster_std=0.4,\n",
        "#                            random_state=0)  # generate sample blobs"
      ]
    },
    {
      "cell_type": "code",
      "execution_count": null,
      "metadata": {
        "id": "aZCE_vWx12xf"
      },
      "outputs": [],
      "source": [
        "# CSV file\n",
        "dataset=pd.read_csv('Mall_Customers.csv')\n",
        "\n",
        "#dataset\n",
        "X =dataset[['Annual Income (k$)','Spending Score (1-100)']]\n",
        "X.head()"
      ]
    },
    {
      "cell_type": "code",
      "execution_count": null,
      "metadata": {
        "id": "Bae-bBrj12xf"
      },
      "outputs": [],
      "source": [
        "X = StandardScaler().fit_transform(X)\n",
        "X[:5]"
      ]
    },
    {
      "cell_type": "code",
      "execution_count": null,
      "metadata": {
        "id": "UzNCL-9e12xg"
      },
      "outputs": [],
      "source": [
        "# DBSCAN\n",
        "db = DBSCAN(eps=0.4, min_samples=4).fit(X)"
      ]
    },
    {
      "cell_type": "code",
      "execution_count": null,
      "metadata": {
        "id": "fKdiAzbm12xg"
      },
      "outputs": [],
      "source": [
        "labels = db.labels_  # similar to the model.fit() method, it gives the labels of the clustered data\n",
        "\n",
        "print (labels)"
      ]
    },
    {
      "cell_type": "code",
      "execution_count": null,
      "metadata": {
        "id": "-3U11Aq-12xg"
      },
      "outputs": [],
      "source": [
        "len(set(labels))"
      ]
    },
    {
      "cell_type": "code",
      "execution_count": null,
      "metadata": {
        "id": "MsSsbyGe12xg"
      },
      "outputs": [],
      "source": [
        "1 if -1 in labels else 0"
      ]
    },
    {
      "cell_type": "code",
      "execution_count": null,
      "metadata": {
        "id": "jOa6UCjx12xh"
      },
      "outputs": [],
      "source": [
        "# Number of clusters in labels, ignoring noise if present.\n",
        "\n",
        "n_clusters_ = len(set(labels)) - (1 if -1 in labels else 0) # the label -1 is considered as noise by the DBSCAN algorithm\n",
        "n_noise_ = list(labels).count(-1)  # calculating the number of noises (-1)"
      ]
    },
    {
      "cell_type": "code",
      "execution_count": null,
      "metadata": {
        "scrolled": true,
        "id": "GZF-BkM712xh"
      },
      "outputs": [],
      "source": [
        "print('Estimated number of clusters: %d' % n_clusters_)\n",
        "print('Estimated number of noise points: %d' % n_noise_)"
      ]
    },
    {
      "cell_type": "code",
      "execution_count": null,
      "metadata": {
        "id": "9CSGR05O12xh"
      },
      "outputs": [],
      "source": [
        "# Below code is for showcasing in diagram. Nothing related to model building\n",
        "\n",
        "core_samples_mask = np.zeros_like(db.labels_, dtype=bool)  # creating an array of true and false as the same size as db.labels\n",
        "\n",
        "core_samples_mask[db.core_sample_indices_] = True  # setting the indices of the core regions to True\n",
        "\n",
        "\n",
        "\n",
        "\n",
        "# Plot result\n",
        "import matplotlib.pyplot as plt\n",
        "\n",
        "# Black  is used for noise.\n",
        "unique_labels = set(labels)  # identifying all the unique labels/clusters\n",
        "\n",
        "colors = [plt.cm.Spectral(each)\n",
        "          for each in np.linspace(0, 1, len(unique_labels))]  # creating the list of colours, generating the colourmap\n",
        "\n",
        "\n",
        "\n",
        "for k, col in zip(unique_labels, colors):\n",
        "\n",
        "\n",
        "    if k == -1:\n",
        "        # Black used for noise.\n",
        "        col = [0, 0, 0, 1]\n",
        "\n",
        "    class_member_mask = (labels == k)   # assigning class members for each class\n",
        "\n",
        "\n",
        "    xy = X[class_member_mask & core_samples_mask] # creating the list of points for each class\n",
        "\n",
        "    plt.plot(xy[:, 0], xy[:, 1], 'o', markerfacecolor=tuple(col),\n",
        "             markeredgecolor='k', markersize=14)\n",
        "\n",
        "\n",
        "    xy = X[class_member_mask & ~core_samples_mask] # creating the list of noise points\n",
        "\n",
        "    plt.plot(xy[:, 0], xy[:, 1], 'o', markerfacecolor=tuple(col),\n",
        "             markeredgecolor='b', markersize=14)\n",
        "\n",
        "\n",
        "\n",
        "plt.title('Estimated number of clusters: %d' % n_clusters_)\n",
        "plt.show()"
      ]
    },
    {
      "cell_type": "markdown",
      "metadata": {
        "id": "mPpjUJT712xh"
      },
      "source": [
        "### Finding counts in each cluster"
      ]
    },
    {
      "cell_type": "code",
      "execution_count": null,
      "metadata": {
        "scrolled": true,
        "id": "1HBHRCi612xi"
      },
      "outputs": [],
      "source": [
        "np.unique(labels, return_counts=True)"
      ]
    },
    {
      "cell_type": "markdown",
      "metadata": {
        "id": "rOFn5Gwo12xi"
      },
      "source": [
        "#### Select only noises or outliers for further action."
      ]
    },
    {
      "cell_type": "code",
      "execution_count": null,
      "metadata": {
        "id": "ur6GuUgQ12xi"
      },
      "outputs": [],
      "source": [
        "noises = X[labels == -1]\n",
        "\n",
        "print (noises)"
      ]
    }
  ]
}